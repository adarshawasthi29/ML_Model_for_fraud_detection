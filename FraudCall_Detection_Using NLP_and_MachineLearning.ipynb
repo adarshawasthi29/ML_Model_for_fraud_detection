{
 "cells": [
  {
   "cell_type": "code",
   "execution_count": 1,
   "id": "d3cccf45-2df8-48f9-be02-8f449a367c31",
   "metadata": {},
   "outputs": [],
   "source": [
    "import numpy as np\n",
    "import pandas as pd\n",
    "import matplotlib.pyplot as plt"
   ]
  },
  {
   "cell_type": "code",
   "execution_count": 3,
   "id": "16014b54-f938-470e-a1ce-7977752fabe7",
   "metadata": {},
   "outputs": [
    {
     "data": {
      "text/html": [
       "<div>\n",
       "<style scoped>\n",
       "    .dataframe tbody tr th:only-of-type {\n",
       "        vertical-align: middle;\n",
       "    }\n",
       "\n",
       "    .dataframe tbody tr th {\n",
       "        vertical-align: top;\n",
       "    }\n",
       "\n",
       "    .dataframe thead th {\n",
       "        text-align: right;\n",
       "    }\n",
       "</style>\n",
       "<table border=\"1\" class=\"dataframe\">\n",
       "  <thead>\n",
       "    <tr style=\"text-align: right;\">\n",
       "      <th></th>\n",
       "      <th>label</th>\n",
       "      <th>content</th>\n",
       "    </tr>\n",
       "  </thead>\n",
       "  <tbody>\n",
       "    <tr>\n",
       "      <th>825</th>\n",
       "      <td>normal</td>\n",
       "      <td>Hey what's up charles sorry about the late reply.</td>\n",
       "    </tr>\n",
       "    <tr>\n",
       "      <th>2383</th>\n",
       "      <td>normal</td>\n",
       "      <td>Chinatown got porridge, claypot rice, yam cake...</td>\n",
       "    </tr>\n",
       "    <tr>\n",
       "      <th>5555</th>\n",
       "      <td>fraud</td>\n",
       "      <td>Had your mobile 11mths ? Update for FREE to Or...</td>\n",
       "    </tr>\n",
       "    <tr>\n",
       "      <th>5679</th>\n",
       "      <td>normal</td>\n",
       "      <td>Dude im no longer a pisces. Im an aquarius now.</td>\n",
       "    </tr>\n",
       "    <tr>\n",
       "      <th>4147</th>\n",
       "      <td>normal</td>\n",
       "      <td>Was gr8 to see that message. So when r u leavi...</td>\n",
       "    </tr>\n",
       "  </tbody>\n",
       "</table>\n",
       "</div>"
      ],
      "text/plain": [
       "       label                                            content\n",
       "825   normal  Hey what's up charles sorry about the late reply.\n",
       "2383  normal  Chinatown got porridge, claypot rice, yam cake...\n",
       "5555   fraud  Had your mobile 11mths ? Update for FREE to Or...\n",
       "5679  normal    Dude im no longer a pisces. Im an aquarius now.\n",
       "4147  normal  Was gr8 to see that message. So when r u leavi..."
      ]
     },
     "execution_count": 3,
     "metadata": {},
     "output_type": "execute_result"
    }
   ],
   "source": [
    "# df = pd.read_csv('spam.csv', encoding='ISO-8859-1')\n",
    "df = pd.read_csv(\"fraud_call (1).file\", sep='\\t', names=['label', 'content'], on_bad_lines='skip')\n",
    "\n",
    "df.sample(5)"
   ]
  },
  {
   "cell_type": "code",
   "execution_count": 5,
   "id": "be31dcd3-58af-4fca-8c8f-957898c3b13a",
   "metadata": {},
   "outputs": [
    {
     "data": {
      "text/plain": [
       "(5924, 2)"
      ]
     },
     "execution_count": 5,
     "metadata": {},
     "output_type": "execute_result"
    }
   ],
   "source": [
    "df.shape"
   ]
  },
  {
   "cell_type": "markdown",
   "id": "0f181f12-572d-4013-8e17-13a43d30b9f9",
   "metadata": {},
   "source": [
    "## 1. <b>Data Cleaning</b>"
   ]
  },
  {
   "cell_type": "code",
   "execution_count": 8,
   "id": "323a18c8-014d-49fe-857d-c96933841007",
   "metadata": {},
   "outputs": [
    {
     "name": "stdout",
     "output_type": "stream",
     "text": [
      "<class 'pandas.core.frame.DataFrame'>\n",
      "RangeIndex: 5924 entries, 0 to 5923\n",
      "Data columns (total 2 columns):\n",
      " #   Column   Non-Null Count  Dtype \n",
      "---  ------   --------------  ----- \n",
      " 0   label    5924 non-null   object\n",
      " 1   content  5924 non-null   object\n",
      "dtypes: object(2)\n",
      "memory usage: 92.7+ KB\n"
     ]
    }
   ],
   "source": [
    "df.info()"
   ]
  },
  {
   "cell_type": "code",
   "execution_count": 10,
   "id": "9d2804d9-14a5-4d72-8162-3bcf95113b52",
   "metadata": {},
   "outputs": [
    {
     "data": {
      "text/html": [
       "<div>\n",
       "<style scoped>\n",
       "    .dataframe tbody tr th:only-of-type {\n",
       "        vertical-align: middle;\n",
       "    }\n",
       "\n",
       "    .dataframe tbody tr th {\n",
       "        vertical-align: top;\n",
       "    }\n",
       "\n",
       "    .dataframe thead th {\n",
       "        text-align: right;\n",
       "    }\n",
       "</style>\n",
       "<table border=\"1\" class=\"dataframe\">\n",
       "  <thead>\n",
       "    <tr style=\"text-align: right;\">\n",
       "      <th></th>\n",
       "      <th>target</th>\n",
       "      <th>text</th>\n",
       "    </tr>\n",
       "  </thead>\n",
       "  <tbody>\n",
       "    <tr>\n",
       "      <th>0</th>\n",
       "      <td>fraud</td>\n",
       "      <td>hello, i m bank manager of SBI, ur debit card ...</td>\n",
       "    </tr>\n",
       "    <tr>\n",
       "      <th>1</th>\n",
       "      <td>fraud</td>\n",
       "      <td>Todays Vodafone numbers ending with 4882 are s...</td>\n",
       "    </tr>\n",
       "    <tr>\n",
       "      <th>2</th>\n",
       "      <td>normal</td>\n",
       "      <td>Please don't say like that. Hi hi hi</td>\n",
       "    </tr>\n",
       "    <tr>\n",
       "      <th>3</th>\n",
       "      <td>normal</td>\n",
       "      <td>Thank you!</td>\n",
       "    </tr>\n",
       "    <tr>\n",
       "      <th>4</th>\n",
       "      <td>normal</td>\n",
       "      <td>Oh that was a forwarded message. I thought you...</td>\n",
       "    </tr>\n",
       "    <tr>\n",
       "      <th>...</th>\n",
       "      <td>...</td>\n",
       "      <td>...</td>\n",
       "    </tr>\n",
       "    <tr>\n",
       "      <th>5919</th>\n",
       "      <td>fraud</td>\n",
       "      <td>to get 1000 INR voucher please call on 8898655...</td>\n",
       "    </tr>\n",
       "    <tr>\n",
       "      <th>5920</th>\n",
       "      <td>fraud</td>\n",
       "      <td>to get free access of google cloud account hit...</td>\n",
       "    </tr>\n",
       "    <tr>\n",
       "      <th>5921</th>\n",
       "      <td>fraud</td>\n",
       "      <td>to get free AWS cloud account hit on given mes...</td>\n",
       "    </tr>\n",
       "    <tr>\n",
       "      <th>5922</th>\n",
       "      <td>fraud</td>\n",
       "      <td>to get free access of Microsoft Azure hit on g...</td>\n",
       "    </tr>\n",
       "    <tr>\n",
       "      <th>5923</th>\n",
       "      <td>fraud</td>\n",
       "      <td>hello sir, we are from your bank have you fill...</td>\n",
       "    </tr>\n",
       "  </tbody>\n",
       "</table>\n",
       "<p>5924 rows × 2 columns</p>\n",
       "</div>"
      ],
      "text/plain": [
       "      target                                               text\n",
       "0      fraud  hello, i m bank manager of SBI, ur debit card ...\n",
       "1      fraud  Todays Vodafone numbers ending with 4882 are s...\n",
       "2     normal               Please don't say like that. Hi hi hi\n",
       "3     normal                                         Thank you!\n",
       "4     normal  Oh that was a forwarded message. I thought you...\n",
       "...      ...                                                ...\n",
       "5919   fraud  to get 1000 INR voucher please call on 8898655...\n",
       "5920   fraud  to get free access of google cloud account hit...\n",
       "5921   fraud  to get free AWS cloud account hit on given mes...\n",
       "5922   fraud  to get free access of Microsoft Azure hit on g...\n",
       "5923   fraud  hello sir, we are from your bank have you fill...\n",
       "\n",
       "[5924 rows x 2 columns]"
      ]
     },
     "execution_count": 10,
     "metadata": {},
     "output_type": "execute_result"
    }
   ],
   "source": [
    "# renaming the columns to make them more descriptive\n",
    "df.rename(columns={'label':'target','content':'text'},inplace=True)\n",
    "df"
   ]
  },
  {
   "cell_type": "code",
   "execution_count": 12,
   "id": "2ea5db31-a416-4e98-afb1-cdda010cacc1",
   "metadata": {},
   "outputs": [],
   "source": [
    "# now converting the normal and fraud into 0 and 1 using label encoder\n",
    "from sklearn.preprocessing import LabelEncoder\n",
    "encoder = LabelEncoder()"
   ]
  },
  {
   "cell_type": "code",
   "execution_count": 13,
   "id": "9ac9b5d8-04c2-431c-9006-feb1dce1ff2d",
   "metadata": {},
   "outputs": [
    {
     "data": {
      "text/html": [
       "<div>\n",
       "<style scoped>\n",
       "    .dataframe tbody tr th:only-of-type {\n",
       "        vertical-align: middle;\n",
       "    }\n",
       "\n",
       "    .dataframe tbody tr th {\n",
       "        vertical-align: top;\n",
       "    }\n",
       "\n",
       "    .dataframe thead th {\n",
       "        text-align: right;\n",
       "    }\n",
       "</style>\n",
       "<table border=\"1\" class=\"dataframe\">\n",
       "  <thead>\n",
       "    <tr style=\"text-align: right;\">\n",
       "      <th></th>\n",
       "      <th>target</th>\n",
       "      <th>text</th>\n",
       "    </tr>\n",
       "  </thead>\n",
       "  <tbody>\n",
       "    <tr>\n",
       "      <th>0</th>\n",
       "      <td>1</td>\n",
       "      <td>hello, i m bank manager of SBI, ur debit card ...</td>\n",
       "    </tr>\n",
       "    <tr>\n",
       "      <th>1</th>\n",
       "      <td>1</td>\n",
       "      <td>Todays Vodafone numbers ending with 4882 are s...</td>\n",
       "    </tr>\n",
       "    <tr>\n",
       "      <th>2</th>\n",
       "      <td>0</td>\n",
       "      <td>Please don't say like that. Hi hi hi</td>\n",
       "    </tr>\n",
       "    <tr>\n",
       "      <th>3</th>\n",
       "      <td>0</td>\n",
       "      <td>Thank you!</td>\n",
       "    </tr>\n",
       "    <tr>\n",
       "      <th>4</th>\n",
       "      <td>0</td>\n",
       "      <td>Oh that was a forwarded message. I thought you...</td>\n",
       "    </tr>\n",
       "    <tr>\n",
       "      <th>...</th>\n",
       "      <td>...</td>\n",
       "      <td>...</td>\n",
       "    </tr>\n",
       "    <tr>\n",
       "      <th>5919</th>\n",
       "      <td>1</td>\n",
       "      <td>to get 1000 INR voucher please call on 8898655...</td>\n",
       "    </tr>\n",
       "    <tr>\n",
       "      <th>5920</th>\n",
       "      <td>1</td>\n",
       "      <td>to get free access of google cloud account hit...</td>\n",
       "    </tr>\n",
       "    <tr>\n",
       "      <th>5921</th>\n",
       "      <td>1</td>\n",
       "      <td>to get free AWS cloud account hit on given mes...</td>\n",
       "    </tr>\n",
       "    <tr>\n",
       "      <th>5922</th>\n",
       "      <td>1</td>\n",
       "      <td>to get free access of Microsoft Azure hit on g...</td>\n",
       "    </tr>\n",
       "    <tr>\n",
       "      <th>5923</th>\n",
       "      <td>1</td>\n",
       "      <td>hello sir, we are from your bank have you fill...</td>\n",
       "    </tr>\n",
       "  </tbody>\n",
       "</table>\n",
       "<p>5924 rows × 2 columns</p>\n",
       "</div>"
      ],
      "text/plain": [
       "      target                                               text\n",
       "0          1  hello, i m bank manager of SBI, ur debit card ...\n",
       "1          1  Todays Vodafone numbers ending with 4882 are s...\n",
       "2          0               Please don't say like that. Hi hi hi\n",
       "3          0                                         Thank you!\n",
       "4          0  Oh that was a forwarded message. I thought you...\n",
       "...      ...                                                ...\n",
       "5919       1  to get 1000 INR voucher please call on 8898655...\n",
       "5920       1  to get free access of google cloud account hit...\n",
       "5921       1  to get free AWS cloud account hit on given mes...\n",
       "5922       1  to get free access of Microsoft Azure hit on g...\n",
       "5923       1  hello sir, we are from your bank have you fill...\n",
       "\n",
       "[5924 rows x 2 columns]"
      ]
     },
     "execution_count": 13,
     "metadata": {},
     "output_type": "execute_result"
    }
   ],
   "source": [
    "df['target'] = df['target'].map(lambda x: 1 if x == 'fraud' else 0)\n",
    "df"
   ]
  },
  {
   "cell_type": "code",
   "execution_count": 14,
   "id": "9c022a5a-d988-4e34-8450-736cbf5eef1b",
   "metadata": {},
   "outputs": [],
   "source": [
    "# df['target'] = encoder.fit_transform(df['target'])"
   ]
  },
  {
   "cell_type": "code",
   "execution_count": 15,
   "id": "b9d88124-818c-4d13-b28b-29982ac454e8",
   "metadata": {},
   "outputs": [],
   "source": [
    "# print(encoder.classes_)"
   ]
  },
  {
   "cell_type": "code",
   "execution_count": 16,
   "id": "6bc95283-3c79-4854-bc62-d7961b11fa8b",
   "metadata": {},
   "outputs": [
    {
     "data": {
      "text/html": [
       "<div>\n",
       "<style scoped>\n",
       "    .dataframe tbody tr th:only-of-type {\n",
       "        vertical-align: middle;\n",
       "    }\n",
       "\n",
       "    .dataframe tbody tr th {\n",
       "        vertical-align: top;\n",
       "    }\n",
       "\n",
       "    .dataframe thead th {\n",
       "        text-align: right;\n",
       "    }\n",
       "</style>\n",
       "<table border=\"1\" class=\"dataframe\">\n",
       "  <thead>\n",
       "    <tr style=\"text-align: right;\">\n",
       "      <th></th>\n",
       "      <th>target</th>\n",
       "      <th>text</th>\n",
       "    </tr>\n",
       "  </thead>\n",
       "  <tbody>\n",
       "    <tr>\n",
       "      <th>0</th>\n",
       "      <td>1</td>\n",
       "      <td>hello, i m bank manager of SBI, ur debit card ...</td>\n",
       "    </tr>\n",
       "    <tr>\n",
       "      <th>1</th>\n",
       "      <td>1</td>\n",
       "      <td>Todays Vodafone numbers ending with 4882 are s...</td>\n",
       "    </tr>\n",
       "    <tr>\n",
       "      <th>2</th>\n",
       "      <td>0</td>\n",
       "      <td>Please don't say like that. Hi hi hi</td>\n",
       "    </tr>\n",
       "    <tr>\n",
       "      <th>3</th>\n",
       "      <td>0</td>\n",
       "      <td>Thank you!</td>\n",
       "    </tr>\n",
       "    <tr>\n",
       "      <th>4</th>\n",
       "      <td>0</td>\n",
       "      <td>Oh that was a forwarded message. I thought you...</td>\n",
       "    </tr>\n",
       "    <tr>\n",
       "      <th>...</th>\n",
       "      <td>...</td>\n",
       "      <td>...</td>\n",
       "    </tr>\n",
       "    <tr>\n",
       "      <th>5919</th>\n",
       "      <td>1</td>\n",
       "      <td>to get 1000 INR voucher please call on 8898655...</td>\n",
       "    </tr>\n",
       "    <tr>\n",
       "      <th>5920</th>\n",
       "      <td>1</td>\n",
       "      <td>to get free access of google cloud account hit...</td>\n",
       "    </tr>\n",
       "    <tr>\n",
       "      <th>5921</th>\n",
       "      <td>1</td>\n",
       "      <td>to get free AWS cloud account hit on given mes...</td>\n",
       "    </tr>\n",
       "    <tr>\n",
       "      <th>5922</th>\n",
       "      <td>1</td>\n",
       "      <td>to get free access of Microsoft Azure hit on g...</td>\n",
       "    </tr>\n",
       "    <tr>\n",
       "      <th>5923</th>\n",
       "      <td>1</td>\n",
       "      <td>hello sir, we are from your bank have you fill...</td>\n",
       "    </tr>\n",
       "  </tbody>\n",
       "</table>\n",
       "<p>5924 rows × 2 columns</p>\n",
       "</div>"
      ],
      "text/plain": [
       "      target                                               text\n",
       "0          1  hello, i m bank manager of SBI, ur debit card ...\n",
       "1          1  Todays Vodafone numbers ending with 4882 are s...\n",
       "2          0               Please don't say like that. Hi hi hi\n",
       "3          0                                         Thank you!\n",
       "4          0  Oh that was a forwarded message. I thought you...\n",
       "...      ...                                                ...\n",
       "5919       1  to get 1000 INR voucher please call on 8898655...\n",
       "5920       1  to get free access of google cloud account hit...\n",
       "5921       1  to get free AWS cloud account hit on given mes...\n",
       "5922       1  to get free access of Microsoft Azure hit on g...\n",
       "5923       1  hello sir, we are from your bank have you fill...\n",
       "\n",
       "[5924 rows x 2 columns]"
      ]
     },
     "execution_count": 16,
     "metadata": {},
     "output_type": "execute_result"
    }
   ],
   "source": [
    "df"
   ]
  },
  {
   "cell_type": "code",
   "execution_count": 17,
   "id": "1e0b40b2-1cc1-4d91-9601-01dff0a96987",
   "metadata": {},
   "outputs": [
    {
     "data": {
      "text/plain": [
       "target    0\n",
       "text      0\n",
       "dtype: int64"
      ]
     },
     "execution_count": 17,
     "metadata": {},
     "output_type": "execute_result"
    }
   ],
   "source": [
    "# missing values\n",
    "df.isnull().sum()"
   ]
  },
  {
   "cell_type": "code",
   "execution_count": 18,
   "id": "45781a29-73c7-4dc4-a1a9-4e3aaca9a127",
   "metadata": {},
   "outputs": [
    {
     "data": {
      "text/plain": [
       "314"
      ]
     },
     "execution_count": 18,
     "metadata": {},
     "output_type": "execute_result"
    }
   ],
   "source": [
    "# check for duplicate values\n",
    "df.duplicated().sum()"
   ]
  },
  {
   "cell_type": "code",
   "execution_count": 19,
   "id": "29dd78c3-916e-4c22-8a67-a90409c70e72",
   "metadata": {},
   "outputs": [],
   "source": [
    "# remove duplicate\n",
    "df = df.drop_duplicates(keep='first')"
   ]
  },
  {
   "cell_type": "code",
   "execution_count": 20,
   "id": "cfaedc39-2d18-4657-b0b4-20516bb0948a",
   "metadata": {},
   "outputs": [
    {
     "data": {
      "text/plain": [
       "0"
      ]
     },
     "execution_count": 20,
     "metadata": {},
     "output_type": "execute_result"
    }
   ],
   "source": [
    "df.duplicated().sum()"
   ]
  },
  {
   "cell_type": "markdown",
   "id": "7ed5b775-29de-4791-a5f9-4d772f3d689e",
   "metadata": {},
   "source": [
    "## 2.EDA"
   ]
  },
  {
   "cell_type": "code",
   "execution_count": 22,
   "id": "ee094e48-1235-4ec4-a5dc-88600686037a",
   "metadata": {},
   "outputs": [
    {
     "data": {
      "text/plain": [
       "target\n",
       "0    5013\n",
       "1     597\n",
       "Name: count, dtype: int64"
      ]
     },
     "execution_count": 22,
     "metadata": {},
     "output_type": "execute_result"
    }
   ],
   "source": [
    "df['target'].value_counts()"
   ]
  },
  {
   "cell_type": "code",
   "execution_count": 23,
   "id": "737791e3-c1dc-4309-bc40-5da47955612d",
   "metadata": {},
   "outputs": [
    {
     "data": {
      "image/png": "[encoded data removed]",
      "text/plain": [
       "<Figure size 1200x600 with 2 Axes>"
      ]
     },
     "metadata": {},
     "output_type": "display_data"
    }
   ],
   "source": [
    "import matplotlib.pyplot as plt\n",
    "\n",
    "# Create a 1x2 subplot layout\n",
    "fig, axes = plt.subplots(1, 2, figsize=(12, 6))\n",
    "\n",
    "# Pie chart\n",
    "axes[0].pie(df['target'].value_counts(), labels=['Normal', 'Fraud'], autopct=\"%0.2f\")\n",
    "axes[0].set_title(\"Pie Chart of Target Values\")\n",
    "\n",
    "# Bar graph\n",
    "df['target'].value_counts().plot(kind='bar', ax=axes[1], color=['blue', 'orange'])\n",
    "axes[1].set_title(\"Bar Graph of Target Values\")\n",
    "axes[1].set_xlabel(\"Target\")\n",
    "axes[1].set_ylabel(\"Count\")\n",
    "axes[1].set_xticks([0, 1])  # Set x-ticks if needed\n",
    "axes[1].set_xticklabels(['Normal', 'Fraud'], rotation=0)\n",
    "\n",
    "# Display the plots\n",
    "plt.tight_layout()\n",
    "plt.show()\n"
   ]
  },
  {
   "cell_type": "code",
   "execution_count": 24,
   "id": "0c9b2a6e-3721-43bd-a82a-7cae61d245c2",
   "metadata": {},
   "outputs": [
    {
     "name": "stdout",
     "output_type": "stream",
     "text": [
      "Requirement already satisfied: nltk in c:\\users\\adars\\anaconda3\\lib\\site-packages (3.8.1)\n",
      "Requirement already satisfied: click in c:\\users\\adars\\anaconda3\\lib\\site-packages (from nltk) (8.1.7)\n",
      "Requirement already satisfied: joblib in c:\\users\\adars\\anaconda3\\lib\\site-packages (from nltk) (1.4.2)\n",
      "Requirement already satisfied: regex>=2021.8.3 in c:\\users\\adars\\anaconda3\\lib\\site-packages (from nltk) (2023.10.3)\n",
      "Requirement already satisfied: tqdm in c:\\users\\adars\\anaconda3\\lib\\site-packages (from nltk) (4.66.4)\n",
      "Requirement already satisfied: colorama in c:\\users\\adars\\anaconda3\\lib\\site-packages (from click->nltk) (0.4.6)\n"
     ]
    },
    {
     "name": "stderr",
     "output_type": "stream",
     "text": [
      "[nltk_data] Downloading package punkt to\n",
      "[nltk_data]     C:\\Users\\adars\\AppData\\Roaming\\nltk_data...\n",
      "[nltk_data]   Package punkt is already up-to-date!\n"
     ]
    },
    {
     "data": {
      "text/plain": [
       "True"
      ]
     },
     "execution_count": 24,
     "metadata": {},
     "output_type": "execute_result"
    }
   ],
   "source": [
    "!pip install nltk\n",
    "import nltk\n",
    "nltk.download('punkt')"
   ]
  },
  {
   "cell_type": "code",
   "execution_count": 25,
   "id": "2cf5e5cc-76c6-4ce9-b395-4d66b210880b",
   "metadata": {},
   "outputs": [
    {
     "name": "stderr",
     "output_type": "stream",
     "text": [
      "C:\\Users\\adars\\AppData\\Local\\Temp\\ipykernel_34144\\2256577459.py:2: SettingWithCopyWarning: \n",
      "A value is trying to be set on a copy of a slice from a DataFrame.\n",
      "Try using .loc[row_indexer,col_indexer] = value instead\n",
      "\n",
      "See the caveats in the documentation: https://pandas.pydata.org/pandas-docs/stable/user_guide/indexing.html#returning-a-view-versus-a-copy\n",
      "  df.loc[:, 'No_of_characters'] = df['text'].apply(len)\n"
     ]
    }
   ],
   "source": [
    "# Add a new column for the number of characters\n",
    "df.loc[:, 'No_of_characters'] = df['text'].apply(len)"
   ]
  },
  {
   "cell_type": "code",
   "execution_count": 26,
   "id": "e6d1fd99-8fb3-4163-9e17-9885e2caf9ff",
   "metadata": {},
   "outputs": [
    {
     "name": "stderr",
     "output_type": "stream",
     "text": [
      "C:\\Users\\adars\\AppData\\Local\\Temp\\ipykernel_34144\\2315012841.py:2: SettingWithCopyWarning: \n",
      "A value is trying to be set on a copy of a slice from a DataFrame.\n",
      "Try using .loc[row_indexer,col_indexer] = value instead\n",
      "\n",
      "See the caveats in the documentation: https://pandas.pydata.org/pandas-docs/stable/user_guide/indexing.html#returning-a-view-versus-a-copy\n",
      "  df.loc[:,'No_of_words'] = df['text'].apply(lambda x: len(nltk.word_tokenize(x)))\n"
     ]
    }
   ],
   "source": [
    "# Add a new column for the number of words\n",
    "df.loc[:,'No_of_words'] = df['text'].apply(lambda x: len(nltk.word_tokenize(x)))"
   ]
  },
  {
   "cell_type": "code",
   "execution_count": 27,
   "id": "5343ef09-f8ee-415b-b3a1-54246a891cb4",
   "metadata": {},
   "outputs": [
    {
     "name": "stderr",
     "output_type": "stream",
     "text": [
      "C:\\Users\\adars\\AppData\\Local\\Temp\\ipykernel_34144\\323769870.py:1: SettingWithCopyWarning: \n",
      "A value is trying to be set on a copy of a slice from a DataFrame.\n",
      "Try using .loc[row_indexer,col_indexer] = value instead\n",
      "\n",
      "See the caveats in the documentation: https://pandas.pydata.org/pandas-docs/stable/user_guide/indexing.html#returning-a-view-versus-a-copy\n",
      "  df.loc[:,'No_of_sentence'] = df['text'].apply(lambda x: len(nltk.sent_tokenize(x)))\n"
     ]
    }
   ],
   "source": [
    "df.loc[:,'No_of_sentence'] = df['text'].apply(lambda x: len(nltk.sent_tokenize(x)))"
   ]
  },
  {
   "cell_type": "code",
   "execution_count": 28,
   "id": "4ed470ec-104e-4bf1-b8da-839b24f7b242",
   "metadata": {},
   "outputs": [
    {
     "data": {
      "text/html": [
       "<div>\n",
       "<style scoped>\n",
       "    .dataframe tbody tr th:only-of-type {\n",
       "        vertical-align: middle;\n",
       "    }\n",
       "\n",
       "    .dataframe tbody tr th {\n",
       "        vertical-align: top;\n",
       "    }\n",
       "\n",
       "    .dataframe thead th {\n",
       "        text-align: right;\n",
       "    }\n",
       "</style>\n",
       "<table border=\"1\" class=\"dataframe\">\n",
       "  <thead>\n",
       "    <tr style=\"text-align: right;\">\n",
       "      <th></th>\n",
       "      <th>target</th>\n",
       "      <th>text</th>\n",
       "      <th>No_of_characters</th>\n",
       "      <th>No_of_words</th>\n",
       "      <th>No_of_sentence</th>\n",
       "    </tr>\n",
       "  </thead>\n",
       "  <tbody>\n",
       "    <tr>\n",
       "      <th>0</th>\n",
       "      <td>1</td>\n",
       "      <td>hello, i m bank manager of SBI, ur debit card ...</td>\n",
       "      <td>97</td>\n",
       "      <td>24</td>\n",
       "      <td>1</td>\n",
       "    </tr>\n",
       "    <tr>\n",
       "      <th>1</th>\n",
       "      <td>1</td>\n",
       "      <td>Todays Vodafone numbers ending with 4882 are s...</td>\n",
       "      <td>148</td>\n",
       "      <td>27</td>\n",
       "      <td>2</td>\n",
       "    </tr>\n",
       "    <tr>\n",
       "      <th>2</th>\n",
       "      <td>0</td>\n",
       "      <td>Please don't say like that. Hi hi hi</td>\n",
       "      <td>36</td>\n",
       "      <td>10</td>\n",
       "      <td>2</td>\n",
       "    </tr>\n",
       "    <tr>\n",
       "      <th>3</th>\n",
       "      <td>0</td>\n",
       "      <td>Thank you!</td>\n",
       "      <td>10</td>\n",
       "      <td>3</td>\n",
       "      <td>1</td>\n",
       "    </tr>\n",
       "    <tr>\n",
       "      <th>4</th>\n",
       "      <td>0</td>\n",
       "      <td>Oh that was a forwarded message. I thought you...</td>\n",
       "      <td>63</td>\n",
       "      <td>15</td>\n",
       "      <td>2</td>\n",
       "    </tr>\n",
       "    <tr>\n",
       "      <th>...</th>\n",
       "      <td>...</td>\n",
       "      <td>...</td>\n",
       "      <td>...</td>\n",
       "      <td>...</td>\n",
       "      <td>...</td>\n",
       "    </tr>\n",
       "    <tr>\n",
       "      <th>5919</th>\n",
       "      <td>1</td>\n",
       "      <td>to get 1000 INR voucher please call on 8898655...</td>\n",
       "      <td>52</td>\n",
       "      <td>10</td>\n",
       "      <td>1</td>\n",
       "    </tr>\n",
       "    <tr>\n",
       "      <th>5920</th>\n",
       "      <td>1</td>\n",
       "      <td>to get free access of google cloud account hit...</td>\n",
       "      <td>73</td>\n",
       "      <td>15</td>\n",
       "      <td>1</td>\n",
       "    </tr>\n",
       "    <tr>\n",
       "      <th>5921</th>\n",
       "      <td>1</td>\n",
       "      <td>to get free AWS cloud account hit on given mes...</td>\n",
       "      <td>60</td>\n",
       "      <td>13</td>\n",
       "      <td>1</td>\n",
       "    </tr>\n",
       "    <tr>\n",
       "      <th>5922</th>\n",
       "      <td>1</td>\n",
       "      <td>to get free access of Microsoft Azure hit on g...</td>\n",
       "      <td>68</td>\n",
       "      <td>14</td>\n",
       "      <td>1</td>\n",
       "    </tr>\n",
       "    <tr>\n",
       "      <th>5923</th>\n",
       "      <td>1</td>\n",
       "      <td>hello sir, we are from your bank have you fill...</td>\n",
       "      <td>106</td>\n",
       "      <td>22</td>\n",
       "      <td>2</td>\n",
       "    </tr>\n",
       "  </tbody>\n",
       "</table>\n",
       "<p>5610 rows × 5 columns</p>\n",
       "</div>"
      ],
      "text/plain": [
       "      target                                               text  \\\n",
       "0          1  hello, i m bank manager of SBI, ur debit card ...   \n",
       "1          1  Todays Vodafone numbers ending with 4882 are s...   \n",
       "2          0               Please don't say like that. Hi hi hi   \n",
       "3          0                                         Thank you!   \n",
       "4          0  Oh that was a forwarded message. I thought you...   \n",
       "...      ...                                                ...   \n",
       "5919       1  to get 1000 INR voucher please call on 8898655...   \n",
       "5920       1  to get free access of google cloud account hit...   \n",
       "5921       1  to get free AWS cloud account hit on given mes...   \n",
       "5922       1  to get free access of Microsoft Azure hit on g...   \n",
       "5923       1  hello sir, we are from your bank have you fill...   \n",
       "\n",
       "      No_of_characters  No_of_words  No_of_sentence  \n",
       "0                   97           24               1  \n",
       "1                  148           27               2  \n",
       "2                   36           10               2  \n",
       "3                   10            3               1  \n",
       "4                   63           15               2  \n",
       "...                ...          ...             ...  \n",
       "5919                52           10               1  \n",
       "5920                73           15               1  \n",
       "5921                60           13               1  \n",
       "5922                68           14               1  \n",
       "5923               106           22               2  \n",
       "\n",
       "[5610 rows x 5 columns]"
      ]
     },
     "execution_count": 28,
     "metadata": {},
     "output_type": "execute_result"
    }
   ],
   "source": [
    "df"
   ]
  },
  {
   "cell_type": "code",
   "execution_count": 29,
   "id": "949cd565-8aa7-47eb-afc5-c1410769178a",
   "metadata": {},
   "outputs": [
    {
     "data": {
      "text/plain": [
       "<Axes: xlabel='No_of_characters', ylabel='Count'>"
      ]
     },
     "execution_count": 29,
     "metadata": {},
     "output_type": "execute_result"
    },
    {
     "data": {
      "image/png": "[encoded data removed]",
      "text/plain": [
       "<Figure size 1200x600 with 1 Axes>"
      ]
     },
     "metadata": {},
     "output_type": "display_data"
    }
   ],
   "source": [
    "import seaborn as sns\n",
    "plt.figure(figsize=(12,6))\n",
    "sns.histplot(df[df['target']==0]['No_of_characters'])\n",
    "sns.histplot(df[df['target']==1]['No_of_characters'], color='red')"
   ]
  },
  {
   "cell_type": "markdown",
   "id": "99913844-6d71-400b-8468-68686b326520",
   "metadata": {},
   "source": [
    "## 3. Data Preprocessing\n",
    "<ul>\n",
    "    <li>Lower Casing </li>\n",
    "    <li>Tokenization</li>\n",
    "    <li>Removing Special Characters</li>\n",
    "    <li>Removing stop words and punctuations</li>\n",
    "    <li>Stemming</li>\n",
    "</ul>"
   ]
  },
  {
   "cell_type": "code",
   "execution_count": 31,
   "id": "c8d7bdb3-f608-440c-89b9-c284df4b1847",
   "metadata": {},
   "outputs": [],
   "source": [
    "import string\n",
    "from nltk.corpus import stopwords\n",
    "from nltk.stem.porter import PorterStemmer"
   ]
  },
  {
   "cell_type": "code",
   "execution_count": 32,
   "id": "1dd2b6e6-2a8d-418e-b66f-93855c989435",
   "metadata": {},
   "outputs": [],
   "source": [
    "# making a function which include all the steps\n",
    "\n",
    "def transform_text(text):\n",
    "    # lowercase\n",
    "    text = text.lower()\n",
    "\n",
    "    # tokensization\n",
    "    text = nltk.word_tokenize(text)\n",
    "\n",
    "    # removing special characters and taking only alphanumeric characters\n",
    "    y = []\n",
    "    for i in text:\n",
    "        if i.isalnum():\n",
    "            y.append(i)\n",
    "            \n",
    "    text = y[:]\n",
    "    y.clear()\n",
    "\n",
    "    # removing stopwords and puncuations\n",
    "    for i in text:\n",
    "        if i not in stopwords.words('english') and i not in string.punctuation:\n",
    "            y.append(i)\n",
    "    \n",
    "    text = y[:]\n",
    "    y.clear()\n",
    "\n",
    "    # stemming\n",
    "    ps = PorterStemmer()\n",
    "    for i in text:\n",
    "         y.append(ps.stem(i))\n",
    "    \n",
    "    return \" \".join(y)\n",
    "    "
   ]
  },
  {
   "cell_type": "code",
   "execution_count": 33,
   "id": "69a323b1-850f-4083-a2fc-c8818d73079f",
   "metadata": {},
   "outputs": [
    {
     "data": {
      "text/plain": [
       "'adarsh keep work one day definit get want god alway'"
      ]
     },
     "execution_count": 33,
     "metadata": {},
     "output_type": "execute_result"
    }
   ],
   "source": [
    "transform_text(\"Adarsh Keep doing the work , one day you will definitely get what you want. God is with you always\") "
   ]
  },
  {
   "cell_type": "code",
   "execution_count": 34,
   "id": "9dc562e5-2cd1-41c5-a2d1-b75867433c87",
   "metadata": {},
   "outputs": [
    {
     "name": "stderr",
     "output_type": "stream",
     "text": [
      "C:\\Users\\adars\\AppData\\Local\\Temp\\ipykernel_34144\\2537418861.py:1: SettingWithCopyWarning: \n",
      "A value is trying to be set on a copy of a slice from a DataFrame.\n",
      "Try using .loc[row_indexer,col_indexer] = value instead\n",
      "\n",
      "See the caveats in the documentation: https://pandas.pydata.org/pandas-docs/stable/user_guide/indexing.html#returning-a-view-versus-a-copy\n",
      "  df.loc[:,'transformed_text'] = df['text'].apply(transform_text)\n"
     ]
    }
   ],
   "source": [
    "df.loc[:,'transformed_text'] = df['text'].apply(transform_text)"
   ]
  },
  {
   "cell_type": "code",
   "execution_count": 35,
   "id": "547904c1-863b-4e4c-9df2-3c5514e0a4d1",
   "metadata": {},
   "outputs": [
    {
     "data": {
      "text/html": [
       "<div>\n",
       "<style scoped>\n",
       "    .dataframe tbody tr th:only-of-type {\n",
       "        vertical-align: middle;\n",
       "    }\n",
       "\n",
       "    .dataframe tbody tr th {\n",
       "        vertical-align: top;\n",
       "    }\n",
       "\n",
       "    .dataframe thead th {\n",
       "        text-align: right;\n",
       "    }\n",
       "</style>\n",
       "<table border=\"1\" class=\"dataframe\">\n",
       "  <thead>\n",
       "    <tr style=\"text-align: right;\">\n",
       "      <th></th>\n",
       "      <th>target</th>\n",
       "      <th>text</th>\n",
       "      <th>No_of_characters</th>\n",
       "      <th>No_of_words</th>\n",
       "      <th>No_of_sentence</th>\n",
       "      <th>transformed_text</th>\n",
       "    </tr>\n",
       "  </thead>\n",
       "  <tbody>\n",
       "    <tr>\n",
       "      <th>0</th>\n",
       "      <td>1</td>\n",
       "      <td>hello, i m bank manager of SBI, ur debit card ...</td>\n",
       "      <td>97</td>\n",
       "      <td>24</td>\n",
       "      <td>1</td>\n",
       "      <td>hello bank manag sbi ur debit card expir would...</td>\n",
       "    </tr>\n",
       "    <tr>\n",
       "      <th>1</th>\n",
       "      <td>1</td>\n",
       "      <td>Todays Vodafone numbers ending with 4882 are s...</td>\n",
       "      <td>148</td>\n",
       "      <td>27</td>\n",
       "      <td>2</td>\n",
       "      <td>today vodafon number end 4882 select receiv aw...</td>\n",
       "    </tr>\n",
       "    <tr>\n",
       "      <th>2</th>\n",
       "      <td>0</td>\n",
       "      <td>Please don't say like that. Hi hi hi</td>\n",
       "      <td>36</td>\n",
       "      <td>10</td>\n",
       "      <td>2</td>\n",
       "      <td>pleas say like hi hi hi</td>\n",
       "    </tr>\n",
       "    <tr>\n",
       "      <th>3</th>\n",
       "      <td>0</td>\n",
       "      <td>Thank you!</td>\n",
       "      <td>10</td>\n",
       "      <td>3</td>\n",
       "      <td>1</td>\n",
       "      <td>thank</td>\n",
       "    </tr>\n",
       "    <tr>\n",
       "      <th>4</th>\n",
       "      <td>0</td>\n",
       "      <td>Oh that was a forwarded message. I thought you...</td>\n",
       "      <td>63</td>\n",
       "      <td>15</td>\n",
       "      <td>2</td>\n",
       "      <td>oh forward messag thought send</td>\n",
       "    </tr>\n",
       "  </tbody>\n",
       "</table>\n",
       "</div>"
      ],
      "text/plain": [
       "   target                                               text  \\\n",
       "0       1  hello, i m bank manager of SBI, ur debit card ...   \n",
       "1       1  Todays Vodafone numbers ending with 4882 are s...   \n",
       "2       0               Please don't say like that. Hi hi hi   \n",
       "3       0                                         Thank you!   \n",
       "4       0  Oh that was a forwarded message. I thought you...   \n",
       "\n",
       "   No_of_characters  No_of_words  No_of_sentence  \\\n",
       "0                97           24               1   \n",
       "1               148           27               2   \n",
       "2                36           10               2   \n",
       "3                10            3               1   \n",
       "4                63           15               2   \n",
       "\n",
       "                                    transformed_text  \n",
       "0  hello bank manag sbi ur debit card expir would...  \n",
       "1  today vodafon number end 4882 select receiv aw...  \n",
       "2                            pleas say like hi hi hi  \n",
       "3                                              thank  \n",
       "4                     oh forward messag thought send  "
      ]
     },
     "execution_count": 35,
     "metadata": {},
     "output_type": "execute_result"
    }
   ],
   "source": [
    "df.head()"
   ]
  },
  {
   "cell_type": "markdown",
   "id": "f973e908-d57e-486a-b19c-e3d902365932",
   "metadata": {},
   "source": [
    "## 4. Model Building"
   ]
  },
  {
   "cell_type": "code",
   "execution_count": 37,
   "id": "cb0e4b60-b431-4dc3-8002-8cd6cc9ca4d2",
   "metadata": {},
   "outputs": [],
   "source": [
    "from sklearn.feature_extraction.text import CountVectorizer, TfidfVectorizer\n",
    "cv = CountVectorizer() # Bag of words\n",
    "tfidf = TfidfVectorizer(max_features=2000) # TF-IDF values"
   ]
  },
  {
   "cell_type": "code",
   "execution_count": 38,
   "id": "c0a989f9-c131-4607-9315-59cd12492232",
   "metadata": {},
   "outputs": [
    {
     "name": "stdout",
     "output_type": "stream",
     "text": [
      "Requirement already satisfied: TextBlob in c:\\users\\adars\\anaconda3\\lib\\site-packages (0.18.0.post0)\n",
      "Requirement already satisfied: nltk>=3.8 in c:\\users\\adars\\anaconda3\\lib\\site-packages (from TextBlob) (3.8.1)\n",
      "Requirement already satisfied: click in c:\\users\\adars\\anaconda3\\lib\\site-packages (from nltk>=3.8->TextBlob) (8.1.7)\n",
      "Requirement already satisfied: joblib in c:\\users\\adars\\anaconda3\\lib\\site-packages (from nltk>=3.8->TextBlob) (1.4.2)\n",
      "Requirement already satisfied: regex>=2021.8.3 in c:\\users\\adars\\anaconda3\\lib\\site-packages (from nltk>=3.8->TextBlob) (2023.10.3)\n",
      "Requirement already satisfied: tqdm in c:\\users\\adars\\anaconda3\\lib\\site-packages (from nltk>=3.8->TextBlob) (4.66.4)\n",
      "Requirement already satisfied: colorama in c:\\users\\adars\\anaconda3\\lib\\site-packages (from click->nltk>=3.8->TextBlob) (0.4.6)\n"
     ]
    }
   ],
   "source": [
    "!pip install TextBlob\n",
    "from textblob import TextBlob"
   ]
  },
  {
   "cell_type": "code",
   "execution_count": 39,
   "id": "e4110e8d-b338-4fea-8318-479cc4b07dbe",
   "metadata": {},
   "outputs": [],
   "source": [
    "def calculate_sentiment_scores(text_data):\n",
    "    sentiment_scores = []\n",
    "    for text in text_data:\n",
    "        blob = TextBlob(text)\n",
    "        sentiment_scores.append([blob.sentiment.polarity, blob.sentiment.subjectivity])\n",
    "    return np.array(sentiment_scores)"
   ]
  },
  {
   "cell_type": "code",
   "execution_count": 40,
   "id": "485d60ee-e9bd-49cc-a31b-a7fc8ac2e89f",
   "metadata": {},
   "outputs": [],
   "source": [
    "X = tfidf.fit_transform(df['transformed_text']).toarray()"
   ]
  },
  {
   "cell_type": "code",
   "execution_count": 41,
   "id": "da2a09af-2fd5-4b09-b12d-ae159a11a704",
   "metadata": {},
   "outputs": [
    {
     "data": {
      "text/plain": [
       "(5610, 2000)"
      ]
     },
     "execution_count": 41,
     "metadata": {},
     "output_type": "execute_result"
    }
   ],
   "source": [
    "X.shape"
   ]
  },
  {
   "cell_type": "code",
   "execution_count": 42,
   "id": "3650f55e-9da1-4890-89c4-c9294f6eb5ae",
   "metadata": {},
   "outputs": [],
   "source": [
    "XX = calculate_sentiment_scores(df['transformed_text'])"
   ]
  },
  {
   "cell_type": "code",
   "execution_count": 43,
   "id": "6a88103f-3f4a-42e4-ad23-e22672619406",
   "metadata": {},
   "outputs": [
    {
     "name": "stdout",
     "output_type": "stream",
     "text": [
      "(5610, 2)\n"
     ]
    },
    {
     "data": {
      "text/plain": [
       "array([[0.13636364, 0.45454545],\n",
       "       [0.        , 0.        ],\n",
       "       [0.        , 0.        ],\n",
       "       ...,\n",
       "       [0.4       , 0.8       ],\n",
       "       [0.4       , 0.8       ],\n",
       "       [0.        , 0.        ]])"
      ]
     },
     "execution_count": 43,
     "metadata": {},
     "output_type": "execute_result"
    }
   ],
   "source": [
    "print(XX.shape)\n",
    "XX"
   ]
  },
  {
   "cell_type": "code",
   "execution_count": 44,
   "id": "20428b0c-6174-4a6f-bca9-a0ec729e8857",
   "metadata": {},
   "outputs": [],
   "source": [
    "X = np.hstack((X, XX))"
   ]
  },
  {
   "cell_type": "code",
   "execution_count": 45,
   "id": "837afdc2-99db-4294-ac4f-e657016fb391",
   "metadata": {},
   "outputs": [
    {
     "data": {
      "text/plain": [
       "(5610, 2002)"
      ]
     },
     "execution_count": 45,
     "metadata": {},
     "output_type": "execute_result"
    }
   ],
   "source": [
    "X.shape"
   ]
  },
  {
   "cell_type": "code",
   "execution_count": 46,
   "id": "0bdcd6be-bb3d-40c1-8bcc-5ccf4ac9f293",
   "metadata": {},
   "outputs": [],
   "source": [
    "y = df['target'].values"
   ]
  },
  {
   "cell_type": "code",
   "execution_count": 47,
   "id": "7923e183-166f-4ec2-a815-a747338f45fc",
   "metadata": {},
   "outputs": [
    {
     "data": {
      "text/plain": [
       "array([1, 1, 0, ..., 1, 1, 1], dtype=int64)"
      ]
     },
     "execution_count": 47,
     "metadata": {},
     "output_type": "execute_result"
    }
   ],
   "source": [
    "y"
   ]
  },
  {
   "cell_type": "code",
   "execution_count": 48,
   "id": "28d1f0a9-3e89-4c09-a368-ce35a35eebed",
   "metadata": {},
   "outputs": [],
   "source": [
    "from sklearn.model_selection import train_test_split"
   ]
  },
  {
   "cell_type": "code",
   "execution_count": 49,
   "id": "684f6d5e-5a45-40ef-b1e3-a84d55c80c56",
   "metadata": {},
   "outputs": [],
   "source": [
    "X_train, X_test, y_train, y_test = train_test_split(X,y,test_size=0.2, random_state=0)"
   ]
  },
  {
   "cell_type": "code",
   "execution_count": 56,
   "id": "7bfe37dc-97db-4b04-b01c-53cb05c42ce8",
   "metadata": {},
   "outputs": [],
   "source": [
    "from sklearn.metrics import accuracy_score, confusion_matrix, precision_score,recall_score,f1_score"
   ]
  },
  {
   "cell_type": "code",
   "execution_count": 51,
   "id": "7f9ba4d0-602d-4414-beb5-dddf48636f5c",
   "metadata": {},
   "outputs": [
    {
     "name": "stdout",
     "output_type": "stream",
     "text": [
      "Requirement already satisfied: xgboost in c:\\users\\adars\\anaconda3\\lib\\site-packages (2.1.2)\n",
      "Requirement already satisfied: numpy in c:\\users\\adars\\anaconda3\\lib\\site-packages (from xgboost) (1.26.4)\n",
      "Requirement already satisfied: scipy in c:\\users\\adars\\anaconda3\\lib\\site-packages (from xgboost) (1.13.1)\n"
     ]
    }
   ],
   "source": [
    "!pip install xgboost\n",
    "from sklearn.linear_model import LogisticRegression\n",
    "from sklearn.svm import SVC\n",
    "# from sklearn.naive_bayes import MultinomialNB\n",
    "from sklearn.tree import DecisionTreeClassifier\n",
    "from sklearn.neighbors import KNeighborsClassifier\n",
    "from sklearn.ensemble import RandomForestClassifier\n",
    "from sklearn.ensemble import AdaBoostClassifier\n",
    "from sklearn.ensemble import BaggingClassifier\n",
    "from sklearn.ensemble import ExtraTreesClassifier\n",
    "from sklearn.ensemble import GradientBoostingClassifier\n",
    "from xgboost import XGBClassifier"
   ]
  },
  {
   "cell_type": "code",
   "execution_count": 52,
   "id": "d97b879f-b56f-402e-81d7-e16d776d9bcc",
   "metadata": {},
   "outputs": [],
   "source": [
    "svc = SVC(kernel='sigmoid',gamma=1.0)\n",
    "knc = KNeighborsClassifier()\n",
    "# mnb = MultinomialNB()\n",
    "dtc = DecisionTreeClassifier(max_depth=5)\n",
    "lrc = LogisticRegression()\n",
    "rfc = RandomForestClassifier()\n",
    "abc = AdaBoostClassifier()\n",
    "bc = BaggingClassifier()\n",
    "etc = ExtraTreesClassifier()\n",
    "gbdt = GradientBoostingClassifier()\n",
    "xgb = XGBClassifier()"
   ]
  },
  {
   "cell_type": "code",
   "execution_count": 53,
   "id": "9f8801e6-1a67-4104-9c31-b6a87a26e9ac",
   "metadata": {},
   "outputs": [],
   "source": [
    "all_models = {\n",
    "    'SVC':svc,\n",
    "    'KN':knc,\n",
    "    # 'NB':mnb,\n",
    "    'DT':dtc,\n",
    "    'LR':lrc,\n",
    "    'Rf':rfc,\n",
    "    'AdaBoost':abc,\n",
    "    'BagC':bc,\n",
    "    'ETC':etc,\n",
    "    'GBDT':gbdt,\n",
    "    'XGB':xgb\n",
    "}"
   ]
  },
  {
   "cell_type": "code",
   "execution_count": 58,
   "id": "0ad307ed-15b8-48e0-aaee-b835d0a7e4ca",
   "metadata": {},
   "outputs": [],
   "source": [
    "def train_classifier(clf,X_train,y_train,X_test,y_test):\n",
    "    clf.fit(X_train,y_train)\n",
    "    y_pred = clf.predict(X_test)\n",
    "    accuracys = accuracy_score(y_test,y_pred)\n",
    "    precisions = precision_score(y_test,y_pred)\n",
    "    recall = recall_score(y_test, y_pred)\n",
    "    f1 = f1_score(y_test, y_pred)\n",
    "\n",
    "    return accuracys,precisions,recall,f1"
   ]
  },
  {
   "cell_type": "code",
   "execution_count": 60,
   "id": "5ec585ac-7eb7-424c-a45a-f46ddda36264",
   "metadata": {},
   "outputs": [
    {
     "data": {
      "text/plain": [
       "(0.893048128342246, 0.5354330708661418, 0.5271317829457365, 0.53125)"
      ]
     },
     "execution_count": 60,
     "metadata": {},
     "output_type": "execute_result"
    }
   ],
   "source": [
    "train_classifier(svc,X_train,y_train,X_test,y_test)"
   ]
  },
  {
   "cell_type": "markdown",
   "id": "5bbb5d28-ee0c-4b33-9723-e382afebd38c",
   "metadata": {},
   "source": [
    "## Final Result"
   ]
  },
  {
   "cell_type": "code",
   "execution_count": 63,
   "id": "79cd12f7-42ef-4bb1-bf31-47a70f09bfcd",
   "metadata": {},
   "outputs": [
    {
     "name": "stdout",
     "output_type": "stream",
     "text": [
      "For  SVC\n",
      "Accuracy -  0.893048128342246\n",
      "Precision -  0.5354330708661418\n",
      "For  KN\n",
      "Accuracy -  0.9456327985739751\n",
      "Precision -  0.9857142857142858\n",
      "For  DT\n",
      "Accuracy -  0.9438502673796791\n",
      "Precision -  0.9024390243902439\n",
      "For  LR\n",
      "Accuracy -  0.9590017825311943\n",
      "Precision -  0.9278350515463918\n",
      "For  Rf\n",
      "Accuracy -  0.9759358288770054\n",
      "Precision -  0.9903846153846154\n"
     ]
    },
    {
     "name": "stderr",
     "output_type": "stream",
     "text": [
      "C:\\Users\\adars\\anaconda3\\Lib\\site-packages\\sklearn\\ensemble\\_weight_boosting.py:519: FutureWarning: The SAMME.R algorithm (the default) is deprecated and will be removed in 1.6. Use the SAMME algorithm to circumvent this warning.\n",
      "  warnings.warn(\n"
     ]
    },
    {
     "name": "stdout",
     "output_type": "stream",
     "text": [
      "For  AdaBoost\n",
      "Accuracy -  0.9625668449197861\n",
      "Precision -  0.9223300970873787\n",
      "For  BagC\n",
      "Accuracy -  0.9616755793226381\n",
      "Precision -  0.864406779661017\n",
      "For  ETC\n",
      "Accuracy -  0.9795008912655971\n",
      "Precision -  0.9818181818181818\n",
      "For  GBDT\n",
      "Accuracy -  0.964349376114082\n",
      "Precision -  0.9587628865979382\n",
      "For  XGB\n",
      "Accuracy -  0.9750445632798574\n",
      "Precision -  0.9719626168224299\n"
     ]
    }
   ],
   "source": [
    "accuracy_score_list = []\n",
    "precision_score_list = []\n",
    "recall_score_list = []\n",
    "F1_score_list = []\n",
    "\n",
    "for name,clf in all_models.items():\n",
    "    current_accuracy,current_precision,current_recall,current_f1 = train_classifier(clf,X_train,y_train,X_test,y_test)\n",
    "\n",
    "    print(\"For \",name)\n",
    "    print(\"Accuracy - \",current_accuracy)\n",
    "    print(\"Precision - \",current_precision)\n",
    "\n",
    "    accuracy_score_list.append(current_accuracy)\n",
    "    precision_score_list.append(current_precision)\n",
    "    recall_score_list.append(current_recall)\n",
    "    F1_score_list.append(current_f1)\n",
    "    "
   ]
  },
  {
   "cell_type": "code",
   "execution_count": 64,
   "id": "7dbadd3c-6777-41d8-bd88-285d9737360f",
   "metadata": {},
   "outputs": [
    {
     "data": {
      "text/html": [
       "<div>\n",
       "<style scoped>\n",
       "    .dataframe tbody tr th:only-of-type {\n",
       "        vertical-align: middle;\n",
       "    }\n",
       "\n",
       "    .dataframe tbody tr th {\n",
       "        vertical-align: top;\n",
       "    }\n",
       "\n",
       "    .dataframe thead th {\n",
       "        text-align: right;\n",
       "    }\n",
       "</style>\n",
       "<table border=\"1\" class=\"dataframe\">\n",
       "  <thead>\n",
       "    <tr style=\"text-align: right;\">\n",
       "      <th></th>\n",
       "      <th>Algorithm</th>\n",
       "      <th>Accuracy</th>\n",
       "      <th>Precision</th>\n",
       "      <th>Recall</th>\n",
       "      <th>F1 score</th>\n",
       "    </tr>\n",
       "  </thead>\n",
       "  <tbody>\n",
       "    <tr>\n",
       "      <th>7</th>\n",
       "      <td>ETC</td>\n",
       "      <td>0.979501</td>\n",
       "      <td>0.981818</td>\n",
       "      <td>0.837209</td>\n",
       "      <td>0.903766</td>\n",
       "    </tr>\n",
       "    <tr>\n",
       "      <th>4</th>\n",
       "      <td>Rf</td>\n",
       "      <td>0.975936</td>\n",
       "      <td>0.990385</td>\n",
       "      <td>0.798450</td>\n",
       "      <td>0.884120</td>\n",
       "    </tr>\n",
       "    <tr>\n",
       "      <th>9</th>\n",
       "      <td>XGB</td>\n",
       "      <td>0.975045</td>\n",
       "      <td>0.971963</td>\n",
       "      <td>0.806202</td>\n",
       "      <td>0.881356</td>\n",
       "    </tr>\n",
       "    <tr>\n",
       "      <th>8</th>\n",
       "      <td>GBDT</td>\n",
       "      <td>0.964349</td>\n",
       "      <td>0.958763</td>\n",
       "      <td>0.720930</td>\n",
       "      <td>0.823009</td>\n",
       "    </tr>\n",
       "    <tr>\n",
       "      <th>5</th>\n",
       "      <td>AdaBoost</td>\n",
       "      <td>0.962567</td>\n",
       "      <td>0.922330</td>\n",
       "      <td>0.736434</td>\n",
       "      <td>0.818966</td>\n",
       "    </tr>\n",
       "    <tr>\n",
       "      <th>6</th>\n",
       "      <td>BagC</td>\n",
       "      <td>0.961676</td>\n",
       "      <td>0.864407</td>\n",
       "      <td>0.790698</td>\n",
       "      <td>0.825911</td>\n",
       "    </tr>\n",
       "    <tr>\n",
       "      <th>3</th>\n",
       "      <td>LR</td>\n",
       "      <td>0.959002</td>\n",
       "      <td>0.927835</td>\n",
       "      <td>0.697674</td>\n",
       "      <td>0.796460</td>\n",
       "    </tr>\n",
       "    <tr>\n",
       "      <th>1</th>\n",
       "      <td>KN</td>\n",
       "      <td>0.945633</td>\n",
       "      <td>0.985714</td>\n",
       "      <td>0.534884</td>\n",
       "      <td>0.693467</td>\n",
       "    </tr>\n",
       "    <tr>\n",
       "      <th>2</th>\n",
       "      <td>DT</td>\n",
       "      <td>0.943850</td>\n",
       "      <td>0.902439</td>\n",
       "      <td>0.573643</td>\n",
       "      <td>0.701422</td>\n",
       "    </tr>\n",
       "    <tr>\n",
       "      <th>0</th>\n",
       "      <td>SVC</td>\n",
       "      <td>0.893048</td>\n",
       "      <td>0.535433</td>\n",
       "      <td>0.527132</td>\n",
       "      <td>0.531250</td>\n",
       "    </tr>\n",
       "  </tbody>\n",
       "</table>\n",
       "</div>"
      ],
      "text/plain": [
       "  Algorithm  Accuracy  Precision    Recall  F1 score\n",
       "7       ETC  0.979501   0.981818  0.837209  0.903766\n",
       "4        Rf  0.975936   0.990385  0.798450  0.884120\n",
       "9       XGB  0.975045   0.971963  0.806202  0.881356\n",
       "8      GBDT  0.964349   0.958763  0.720930  0.823009\n",
       "5  AdaBoost  0.962567   0.922330  0.736434  0.818966\n",
       "6      BagC  0.961676   0.864407  0.790698  0.825911\n",
       "3        LR  0.959002   0.927835  0.697674  0.796460\n",
       "1        KN  0.945633   0.985714  0.534884  0.693467\n",
       "2        DT  0.943850   0.902439  0.573643  0.701422\n",
       "0       SVC  0.893048   0.535433  0.527132  0.531250"
      ]
     },
     "execution_count": 64,
     "metadata": {},
     "output_type": "execute_result"
    }
   ],
   "source": [
    "performance_df = pd.DataFrame({'Algorithm':all_models.keys(),'Accuracy':accuracy_score_list,'Precision':precision_score_list,'Recall':recall_score_list,'F1 score':F1_score_list}).sort_values('Accuracy',ascending=False)\n",
    "performance_df"
   ]
  },
  {
   "cell_type": "code",
   "execution_count": 65,
   "id": "d12aa7ab-6b93-4eb9-864f-38fa6435aa24",
   "metadata": {},
   "outputs": [
    {
     "data": {
      "image/png": "[encoded data removed]",
      "text/plain": [
       "<Figure size 613.5x500 with 1 Axes>"
      ]
     },
     "metadata": {},
     "output_type": "display_data"
    }
   ],
   "source": [
    "performance_df1 = pd.melt(performance_df, id_vars = \"Algorithm\")\n",
    "sns.catplot(x='Algorithm', y='value',\n",
    "            hue='variable',data=performance_df1,kind='bar',height=5)\n",
    "plt.ylim(0.5,1.0)\n",
    "plt.xticks(rotation='vertical')\n",
    "plt.show()"
   ]
  },
  {
   "cell_type": "code",
   "execution_count": 67,
   "id": "134b02f8-cae0-466e-9884-f383010fc171",
   "metadata": {},
   "outputs": [
    {
     "data": {
      "image/png": "[encoded data removed]",
      "text/plain": [
       "<Figure size 800x600 with 1 Axes>"
      ]
     },
     "metadata": {},
     "output_type": "display_data"
    }
   ],
   "source": [
    "etc.fit(X_train, y_train)\n",
    "y_pred = clf.predict(X_test)\n",
    "cm = confusion_matrix(y_test, y_pred)\n"
   ]
  },
  {
   "cell_type": "code",
   "execution_count": 75,
   "id": "b50eaefe-ec05-4e3d-8c3d-84eae1f7dd5f",
   "metadata": {},
   "outputs": [
    {
     "data": {
      "image/png": "[encoded data removed]",
      "text/plain": [
       "<Figure size 800x600 with 1 Axes>"
      ]
     },
     "metadata": {},
     "output_type": "display_data"
    }
   ],
   "source": [
    "plt.figure(figsize=(8, 6))\n",
    "sns.heatmap(cm, annot=True, fmt='d', cmap='Reds', cbar=False, \n",
    "                xticklabels=clf.classes_, yticklabels=clf.classes_)\n",
    "plt.xlabel('Predicted Label')\n",
    "plt.ylabel('True Label')\n",
    "plt.title('Confusion Matrix')\n",
    "plt.show()"
   ]
  },
  {
   "cell_type": "code",
   "execution_count": 77,
   "id": "f330a9f5-fb97-4ebd-8097-f56ec9070ebc",
   "metadata": {},
   "outputs": [
    {
     "data": {
      "image/png": "[encoded data removed]",
      "text/plain": [
       "<Figure size 800x600 with 1 Axes>"
      ]
     },
     "metadata": {},
     "output_type": "display_data"
    }
   ],
   "source": [
    "plt.figure(figsize=(8, 6))\n",
    "sns.heatmap(cm, annot=True, fmt='d', cmap='Greens', cbar=False, \n",
    "                xticklabels=clf.classes_, yticklabels=clf.classes_)\n",
    "plt.xlabel('Predicted Label')\n",
    "plt.ylabel('True Label')\n",
    "plt.title('Confusion Matrix')\n",
    "plt.show()"
   ]
  },
  {
   "cell_type": "code",
   "execution_count": null,
   "id": "b2612539-e14a-4264-bf31-7925646859d3",
   "metadata": {},
   "outputs": [],
   "source": []
  },
  {
   "cell_type": "code",
   "execution_count": null,
   "id": "38331b1c-f64c-415e-9dd4-cd7aa8931238",
   "metadata": {},
   "outputs": [],
   "source": []
  },
  {
   "cell_type": "code",
   "execution_count": null,
   "id": "83302203-c157-4d42-9782-701ed94e8cd0",
   "metadata": {},
   "outputs": [],
   "source": []
  },
  {
   "cell_type": "code",
   "execution_count": null,
   "id": "6b277e61-5ffc-4f4b-9122-da38018da064",
   "metadata": {},
   "outputs": [],
   "source": []
  }
 ],
 "metadata": {
  "kernelspec": {
   "display_name": "Python 3 (ipykernel)",
   "language": "python",
   "name": "python3"
  },
  "language_info": {
   "codemirror_mode": {
    "name": "ipython",
    "version": 3
   },
   "file_extension": ".py",
   "mimetype": "text/x-python",
   "name": "python",
   "nbconvert_exporter": "python",
   "pygments_lexer": "ipython3",
   "version": "3.12.4"
  }
 },
 "nbformat": 4,
 "nbformat_minor": 5
}
